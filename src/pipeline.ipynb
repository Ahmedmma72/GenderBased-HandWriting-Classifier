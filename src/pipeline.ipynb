{
 "cells": [
  {
   "cell_type": "code",
   "execution_count": 45,
   "metadata": {},
   "outputs": [],
   "source": [
    "import os\n",
    "import numpy as np\n",
    "from utilityFunctions.utils import *\n",
    "from utilityFunctions.hinge import get_hinge_features\n",
    "from utilityFunctions.preprocess import *\n",
    "from sklearn.preprocessing import MinMaxScaler, StandardScaler\n",
    "from sklearn.svm import SVC\n",
    "from sklearn.metrics import accuracy_score\n",
    "from utilityFunctions.chainCodes import get_chain_code_features\n",
    "import pickle\n",
    "from sklearn.preprocessing import normalize\n",
    "from sklearn.ensemble import RandomForestClassifier\n"
   ]
  },
  {
   "cell_type": "code",
   "execution_count": 2,
   "metadata": {},
   "outputs": [
    {
     "name": "stderr",
     "output_type": "stream",
     "text": [
      "100%|██████████| 236/236 [00:18<00:00, 12.80it/s]\n"
     ]
    }
   ],
   "source": [
    "#read training images\n",
    "training_data,labels = load_images_from_folder(r'Training Data')\n"
   ]
  },
  {
   "cell_type": "code",
   "execution_count": 3,
   "metadata": {},
   "outputs": [
    {
     "name": "stderr",
     "output_type": "stream",
     "text": [
      "100%|██████████| 236/236 [01:14<00:00,  3.15it/s]\n"
     ]
    }
   ],
   "source": [
    "#preprocess training images\n",
    "for i in tqdm(range(len(training_data))):\n",
    "    training_data[i] = preprocess(training_data[i])  "
   ]
  },
  {
   "cell_type": "code",
   "execution_count": 4,
   "metadata": {},
   "outputs": [
    {
     "name": "stdout",
     "output_type": "stream",
     "text": [
      "(72,)\n"
     ]
    }
   ],
   "source": [
    "#get features\n",
    "hinge_feature_vectors = []\n",
    "for i in range(len(training_data)):\n",
    "    hinge_feature_vectors.append(get_hinge_features(training_data[i]))\n",
    "\n",
    "\n",
    "chain_code_feature_vectors = []\n",
    "for i in range(len(training_data)):\n",
    "    chain_code_feature_vectors.append(get_chain_code_features(training_data[i])[0])\n",
    "\n",
    "print(chain_code_feature_vectors[0].shape)\n",
    "          "
   ]
  },
  {
   "cell_type": "code",
   "execution_count": 5,
   "metadata": {},
   "outputs": [],
   "source": [
    "\n",
    "features = []\n",
    "for i in range(len(training_data)):\n",
    "    temp = np.append(hinge_feature_vectors[i], chain_code_feature_vectors[i])\n",
    "    features.append(temp)\n",
    "\n"
   ]
  },
  {
   "cell_type": "code",
   "execution_count": 6,
   "metadata": {},
   "outputs": [],
   "source": [
    "outputFolderTraining = \"Training Features\"\n",
    "np.save(os.path.join(outputFolderTraining,\n",
    "        f\"features.npy\"), features)\n",
    "np.save(os.path.join(outputFolderTraining, f\"labels.npy\"), labels)"
   ]
  },
  {
   "cell_type": "code",
   "execution_count": 17,
   "metadata": {},
   "outputs": [
    {
     "name": "stdout",
     "output_type": "stream",
     "text": [
      "SVM model trained and saved\n"
     ]
    },
    {
     "data": {
      "text/plain": [
       "'\\n\\nEND OF Feature Extraction and Training\\n\\n'"
      ]
     },
     "execution_count": 17,
     "metadata": {},
     "output_type": "execute_result"
    }
   ],
   "source": [
    "#svm model\n",
    "outputFolderTraining = \"Training Features\"\n",
    "\n",
    "features = np.load(os.path.join(\n",
    "    outputFolderTraining, f\"features.npy\"))\n",
    "labels = np.load(os.path.join(outputFolderTraining, f\"labels.npy\"))\n",
    "\n",
    "#now we have the features and labels we can train the model\n",
    "\n",
    "#scale the features\n",
    "#cs = MinMaxScaler()\n",
    "cs = StandardScaler()\n",
    "x = cs.fit_transform(features)\n",
    "x = np.nan_to_num(x)\n",
    "\n",
    "\n",
    "#save the scaler\n",
    "pickle.dump(cs, open(os.path.join(outputFolderTraining, \"scaler.pkl\"), 'wb'))\n",
    "\n",
    "clf = SVC(C=10)\n",
    "clf.fit(x , labels)\n",
    "\n",
    "pickle.dump(clf, open(os.path.join(outputFolderTraining, \"svm.pkl\"), 'wb'))\n",
    "\n",
    "\n",
    "print('SVM model trained and saved')\n",
    "'''\n",
    "\n",
    "END OF Feature Extraction and Training\n",
    "\n",
    "'''"
   ]
  },
  {
   "cell_type": "code",
   "execution_count": 8,
   "metadata": {},
   "outputs": [
    {
     "name": "stderr",
     "output_type": "stream",
     "text": [
      "100%|██████████| 127/127 [00:10<00:00, 12.02it/s]\n",
      "100%|██████████| 127/127 [00:21<00:00,  5.92it/s]\n",
      "100%|██████████| 127/127 [03:13<00:00,  1.52s/it]\n",
      "100%|██████████| 127/127 [00:00<00:00, 126978.93it/s]\n"
     ]
    }
   ],
   "source": [
    "#import the model \n",
    "clf = pickle.load(open(os.path.join(outputFolderTraining, \"svm.pkl\"), 'rb'))\n",
    "\n",
    "#lets test the model on unseen testing data\n",
    "#read testing images\n",
    "testing_data, test_labels = load_images_from_folder(r'Testing Data')\n",
    "#preprocess testing images\n",
    "for i in range(len(testing_data)):\n",
    "    testing_data[i] = preprocess(testing_data[i])\n",
    "#get features\n",
    "test_hinge_feature_vectors = []\n",
    "for image in tqdm(testing_data):\n",
    "    test_hinge_feature_vectors.append(get_hinge_features(image))\n",
    "\n",
    "test_chain_code_feature_vectors = []\n",
    "for image in tqdm(testing_data):\n",
    "    test_chain_code_feature_vectors.append(get_chain_code_features(image)[0])\n",
    "\n",
    "test_features = []\n",
    "for i in tqdm(range(len(testing_data))):\n",
    "    temp = np.append(test_hinge_feature_vectors[i],test_chain_code_feature_vectors[i])\n",
    "    test_features.append(temp)    \n",
    "\n",
    "outputFolderTesting = \"Testing Features\"\n",
    "np.save(os.path.join(outputFolderTesting,\n",
    "        f\"test_features.npy\"), test_features)\n",
    "np.save(os.path.join(outputFolderTesting, f\"test_labels.npy\"), test_labels)\n",
    "        \n"
   ]
  },
  {
   "cell_type": "code",
   "execution_count": 23,
   "metadata": {},
   "outputs": [
    {
     "ename": "FileNotFoundError",
     "evalue": "[Errno 2] No such file or directory: 'Testing Features\\\\test_features.npy'",
     "output_type": "error",
     "traceback": [
      "\u001b[1;31m---------------------------------------------------------------------------\u001b[0m",
      "\u001b[1;31mFileNotFoundError\u001b[0m                         Traceback (most recent call last)",
      "\u001b[1;32m~\\AppData\\Local\\Temp/ipykernel_20728/3352719915.py\u001b[0m in \u001b[0;36m<module>\u001b[1;34m\u001b[0m\n\u001b[0;32m      1\u001b[0m \u001b[0moutputFolderTesting\u001b[0m \u001b[1;33m=\u001b[0m \u001b[1;34m\"Testing Features\"\u001b[0m\u001b[1;33m\u001b[0m\u001b[1;33m\u001b[0m\u001b[0m\n\u001b[1;32m----> 2\u001b[1;33m test_features = np.load(os.path.join(\n\u001b[0m\u001b[0;32m      3\u001b[0m     outputFolderTesting, f\"test_features.npy\"))\n\u001b[0;32m      4\u001b[0m \u001b[0mtest_labels\u001b[0m \u001b[1;33m=\u001b[0m \u001b[0mnp\u001b[0m\u001b[1;33m.\u001b[0m\u001b[0mload\u001b[0m\u001b[1;33m(\u001b[0m\u001b[0mos\u001b[0m\u001b[1;33m.\u001b[0m\u001b[0mpath\u001b[0m\u001b[1;33m.\u001b[0m\u001b[0mjoin\u001b[0m\u001b[1;33m(\u001b[0m\u001b[0moutputFolderTesting\u001b[0m\u001b[1;33m,\u001b[0m \u001b[1;34mf\"test_labels.npy\"\u001b[0m\u001b[1;33m)\u001b[0m\u001b[1;33m)\u001b[0m\u001b[1;33m\u001b[0m\u001b[1;33m\u001b[0m\u001b[0m\n\u001b[0;32m      5\u001b[0m \u001b[1;33m\u001b[0m\u001b[0m\n",
      "\u001b[1;32m~\\AppData\\Roaming\\Python\\Python39\\site-packages\\numpy\\lib\\npyio.py\u001b[0m in \u001b[0;36mload\u001b[1;34m(file, mmap_mode, allow_pickle, fix_imports, encoding)\u001b[0m\n\u001b[0;32m    415\u001b[0m             \u001b[0mown_fid\u001b[0m \u001b[1;33m=\u001b[0m \u001b[1;32mFalse\u001b[0m\u001b[1;33m\u001b[0m\u001b[1;33m\u001b[0m\u001b[0m\n\u001b[0;32m    416\u001b[0m         \u001b[1;32melse\u001b[0m\u001b[1;33m:\u001b[0m\u001b[1;33m\u001b[0m\u001b[1;33m\u001b[0m\u001b[0m\n\u001b[1;32m--> 417\u001b[1;33m             \u001b[0mfid\u001b[0m \u001b[1;33m=\u001b[0m \u001b[0mstack\u001b[0m\u001b[1;33m.\u001b[0m\u001b[0menter_context\u001b[0m\u001b[1;33m(\u001b[0m\u001b[0mopen\u001b[0m\u001b[1;33m(\u001b[0m\u001b[0mos_fspath\u001b[0m\u001b[1;33m(\u001b[0m\u001b[0mfile\u001b[0m\u001b[1;33m)\u001b[0m\u001b[1;33m,\u001b[0m \u001b[1;34m\"rb\"\u001b[0m\u001b[1;33m)\u001b[0m\u001b[1;33m)\u001b[0m\u001b[1;33m\u001b[0m\u001b[1;33m\u001b[0m\u001b[0m\n\u001b[0m\u001b[0;32m    418\u001b[0m             \u001b[0mown_fid\u001b[0m \u001b[1;33m=\u001b[0m \u001b[1;32mTrue\u001b[0m\u001b[1;33m\u001b[0m\u001b[1;33m\u001b[0m\u001b[0m\n\u001b[0;32m    419\u001b[0m \u001b[1;33m\u001b[0m\u001b[0m\n",
      "\u001b[1;31mFileNotFoundError\u001b[0m: [Errno 2] No such file or directory: 'Testing Features\\\\test_features.npy'"
     ]
    }
   ],
   "source": [
    "outputFolderTesting = \"Testing Features\"\n",
    "test_features = np.load(os.path.join(\n",
    "    outputFolderTesting, f\"test_features.npy\"))\n",
    "test_labels = np.load(os.path.join(outputFolderTesting, f\"test_labels.npy\"))\n",
    "\n",
    "\n",
    "#load the scaler\n",
    "sc = pickle.load(open(os.path.join(outputFolderTraining, \"scaler.pkl\"), 'rb'))\n",
    "x_test = np.nan_to_num(test_features)\n",
    "x_test = sc.transform(x_test)\n",
    "\n",
    "\n",
    "#calculate accuracy\n",
    "y_pred = clf.predict(x_test)\n",
    "print('Accuracy:', accuracy_score(test_labels, y_pred)*100, '%')\n"
   ]
  },
  {
   "cell_type": "code",
   "execution_count": 10,
   "metadata": {},
   "outputs": [
    {
     "name": "stderr",
     "output_type": "stream",
     "text": [
      "100%|██████████| 127/127 [00:10<00:00, 11.78it/s]\n"
     ]
    }
   ],
   "source": [
    "testing_data, test_labels = load_images_from_folder(r'Testing Data')\n",
    "#save test lables to ground_truth.txt in the current directory\n",
    "with open('ground_truth.txt', 'w') as f:\n",
    "    for item in test_labels:\n",
    "        f.write(\"%s\\n\" % item)\n"
   ]
  },
  {
   "cell_type": "code",
   "execution_count": 43,
   "metadata": {},
   "outputs": [
    {
     "name": "stdout",
     "output_type": "stream",
     "text": [
      "Accuracy: 80.31496062992126 %\n"
     ]
    }
   ],
   "source": [
    "x = np.nan_to_num(features)\n",
    "\n",
    "cs = StandardScaler()\n",
    "x = cs.fit_transform(x)\n",
    "\n",
    "\n",
    "clf = SVC(C=10)\n",
    "clf.fit(x, labels)\n",
    "\n",
    "x_test = np.nan_to_num(test_features)\n",
    "x_test = cs.transform(x_test)\n",
    "\n",
    "\n",
    "predicitons = clf.predict(x_test)\n",
    "\n",
    "#calculate accuracy\n",
    "print('Accuracy:', accuracy_score(test_labels, predicitons)*100, '%')\n"
   ]
  },
  {
   "cell_type": "code",
   "execution_count": 79,
   "metadata": {},
   "outputs": [
    {
     "name": "stdout",
     "output_type": "stream",
     "text": [
      "Accuracy: 81.88976377952756 %\n"
     ]
    }
   ],
   "source": [
    "clf = RandomForestClassifier(n_estimators=210,random_state=0)\n",
    "clf.fit(features, labels)\n",
    "predicitons = clf.predict(test_features)\n",
    "print('Accuracy:', accuracy_score(test_labels, predicitons)*100, '%')\n"
   ]
  }
 ],
 "metadata": {
  "interpreter": {
   "hash": "11938c6bc6919ae2720b4d5011047913343b08a43b18698fd82dedb0d4417594"
  },
  "kernelspec": {
   "display_name": "Python 3 (ipykernel)",
   "language": "python",
   "name": "python3"
  },
  "language_info": {
   "codemirror_mode": {
    "name": "ipython",
    "version": 3
   },
   "file_extension": ".py",
   "mimetype": "text/x-python",
   "name": "python",
   "nbconvert_exporter": "python",
   "pygments_lexer": "ipython3",
   "version": "3.9.6"
  }
 },
 "nbformat": 4,
 "nbformat_minor": 2
}
