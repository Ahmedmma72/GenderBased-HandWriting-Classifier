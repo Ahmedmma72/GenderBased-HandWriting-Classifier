{
 "cells": [
  {
   "cell_type": "code",
   "execution_count": 10,
   "metadata": {},
   "outputs": [],
   "source": [
    "import os\n",
    "import numpy as np\n",
    "from utils import *\n",
    "from hinge import get_hinge_features\n",
    "from cold import get_cold_features\n",
    "from preprocess import *\n",
    "from sklearn.preprocessing import MinMaxScaler\n",
    "from sklearn.svm import SVC\n",
    "from sklearn.metrics import accuracy_score\n",
    "from sklearn.metrics import classification_report"
   ]
  },
  {
   "cell_type": "code",
   "execution_count": 11,
   "metadata": {},
   "outputs": [
    {
     "name": "stdout",
     "output_type": "stream",
     "text": [
      "[]\n",
      "[]\n"
     ]
    }
   ],
   "source": [
    "#read training images\n",
    "training_data,labels = load_images_from_folder(r'Training Data')\n"
   ]
  },
  {
   "cell_type": "code",
   "execution_count": 3,
   "metadata": {},
   "outputs": [],
   "source": [
    "#preprocess training images\n",
    "for i in range(len(training_data)):\n",
    "    training_data[i],_ = preprocess_image(training_data[i])  "
   ]
  },
  {
   "cell_type": "code",
   "execution_count": 4,
   "metadata": {},
   "outputs": [],
   "source": [
    "#get features\n"
   ]
  },
  {
   "cell_type": "code",
   "execution_count": 5,
   "metadata": {},
   "outputs": [
    {
     "ename": "FileNotFoundError",
     "evalue": "[Errno 2] No such file or directory: 'Training Features/hinge_features.npy'",
     "output_type": "error",
     "traceback": [
      "\u001b[0;31m---------------------------------------------------------------------------\u001b[0m",
      "\u001b[0;31mFileNotFoundError\u001b[0m                         Traceback (most recent call last)",
      "\u001b[0;32m<ipython-input-5-c09fa86c9297>\u001b[0m in \u001b[0;36m<module>\u001b[0;34m\u001b[0m\n\u001b[1;32m      1\u001b[0m \u001b[0moutputFolderTraining\u001b[0m \u001b[0;34m=\u001b[0m \u001b[0;34m\"Training Features\"\u001b[0m\u001b[0;34m\u001b[0m\u001b[0;34m\u001b[0m\u001b[0m\n\u001b[0;32m----> 2\u001b[0;31m np.save(os.path.join(outputFolderTraining,\n\u001b[0m\u001b[1;32m      3\u001b[0m         f\"hinge_features.npy\"), hinge_feature_vectors)\n\u001b[1;32m      4\u001b[0m np.save(os.path.join(outputFolderTraining,\n\u001b[1;32m      5\u001b[0m         f\"cold_features.npy\"), cold_feature_vectors)\n",
      "\u001b[0;32m<__array_function__ internals>\u001b[0m in \u001b[0;36msave\u001b[0;34m(*args, **kwargs)\u001b[0m\n",
      "\u001b[0;32m~/anaconda3/lib/python3.8/site-packages/numpy/lib/npyio.py\u001b[0m in \u001b[0;36msave\u001b[0;34m(file, arr, allow_pickle, fix_imports)\u001b[0m\n\u001b[1;32m    523\u001b[0m         \u001b[0;32mif\u001b[0m \u001b[0;32mnot\u001b[0m \u001b[0mfile\u001b[0m\u001b[0;34m.\u001b[0m\u001b[0mendswith\u001b[0m\u001b[0;34m(\u001b[0m\u001b[0;34m'.npy'\u001b[0m\u001b[0;34m)\u001b[0m\u001b[0;34m:\u001b[0m\u001b[0;34m\u001b[0m\u001b[0;34m\u001b[0m\u001b[0m\n\u001b[1;32m    524\u001b[0m             \u001b[0mfile\u001b[0m \u001b[0;34m=\u001b[0m \u001b[0mfile\u001b[0m \u001b[0;34m+\u001b[0m \u001b[0;34m'.npy'\u001b[0m\u001b[0;34m\u001b[0m\u001b[0;34m\u001b[0m\u001b[0m\n\u001b[0;32m--> 525\u001b[0;31m         \u001b[0mfile_ctx\u001b[0m \u001b[0;34m=\u001b[0m \u001b[0mopen\u001b[0m\u001b[0;34m(\u001b[0m\u001b[0mfile\u001b[0m\u001b[0;34m,\u001b[0m \u001b[0;34m\"wb\"\u001b[0m\u001b[0;34m)\u001b[0m\u001b[0;34m\u001b[0m\u001b[0;34m\u001b[0m\u001b[0m\n\u001b[0m\u001b[1;32m    526\u001b[0m \u001b[0;34m\u001b[0m\u001b[0m\n\u001b[1;32m    527\u001b[0m     \u001b[0;32mwith\u001b[0m \u001b[0mfile_ctx\u001b[0m \u001b[0;32mas\u001b[0m \u001b[0mfid\u001b[0m\u001b[0;34m:\u001b[0m\u001b[0;34m\u001b[0m\u001b[0;34m\u001b[0m\u001b[0m\n",
      "\u001b[0;31mFileNotFoundError\u001b[0m: [Errno 2] No such file or directory: 'Training Features/hinge_features.npy'"
     ]
    }
   ],
   "source": [
    "outputFolderTraining = \"Training Features\"\n",
    "np.save(os.path.join(outputFolderTraining,\n",
    "        f\"hinge_features.npy\"), hinge_feature_vectors)\n",
    "np.save(os.path.join(outputFolderTraining,\n",
    "        f\"cold_features.npy\"), cold_feature_vectors)\n",
    "np.save(os.path.join(outputFolderTraining, f\"labels.npy\"), labels)"
   ]
  },
  {
   "cell_type": "code",
   "execution_count": 6,
   "metadata": {},
   "outputs": [
    {
     "ename": "FileNotFoundError",
     "evalue": "[Errno 2] No such file or directory: 'Training Features/hinge_features.npy'",
     "output_type": "error",
     "traceback": [
      "\u001b[0;31m---------------------------------------------------------------------------\u001b[0m",
      "\u001b[0;31mFileNotFoundError\u001b[0m                         Traceback (most recent call last)",
      "\u001b[0;32m<ipython-input-6-498007f4a88a>\u001b[0m in \u001b[0;36m<module>\u001b[0;34m\u001b[0m\n\u001b[1;32m      1\u001b[0m \u001b[0;31m#svm model\u001b[0m\u001b[0;34m\u001b[0m\u001b[0;34m\u001b[0m\u001b[0;34m\u001b[0m\u001b[0m\n\u001b[0;32m----> 2\u001b[0;31m hinge_feature_vectors = np.load(os.path.join(\n\u001b[0m\u001b[1;32m      3\u001b[0m     outputFolderTraining, f\"hinge_features.npy\"))\n\u001b[1;32m      4\u001b[0m cold_feature_vectors = np.load(os.path.join(\n\u001b[1;32m      5\u001b[0m     outputFolderTraining, f\"cold_features.npy\"))\n",
      "\u001b[0;32m~/anaconda3/lib/python3.8/site-packages/numpy/lib/npyio.py\u001b[0m in \u001b[0;36mload\u001b[0;34m(file, mmap_mode, allow_pickle, fix_imports, encoding)\u001b[0m\n\u001b[1;32m    415\u001b[0m             \u001b[0mown_fid\u001b[0m \u001b[0;34m=\u001b[0m \u001b[0;32mFalse\u001b[0m\u001b[0;34m\u001b[0m\u001b[0;34m\u001b[0m\u001b[0m\n\u001b[1;32m    416\u001b[0m         \u001b[0;32melse\u001b[0m\u001b[0;34m:\u001b[0m\u001b[0;34m\u001b[0m\u001b[0;34m\u001b[0m\u001b[0m\n\u001b[0;32m--> 417\u001b[0;31m             \u001b[0mfid\u001b[0m \u001b[0;34m=\u001b[0m \u001b[0mstack\u001b[0m\u001b[0;34m.\u001b[0m\u001b[0menter_context\u001b[0m\u001b[0;34m(\u001b[0m\u001b[0mopen\u001b[0m\u001b[0;34m(\u001b[0m\u001b[0mos_fspath\u001b[0m\u001b[0;34m(\u001b[0m\u001b[0mfile\u001b[0m\u001b[0;34m)\u001b[0m\u001b[0;34m,\u001b[0m \u001b[0;34m\"rb\"\u001b[0m\u001b[0;34m)\u001b[0m\u001b[0;34m)\u001b[0m\u001b[0;34m\u001b[0m\u001b[0;34m\u001b[0m\u001b[0m\n\u001b[0m\u001b[1;32m    418\u001b[0m             \u001b[0mown_fid\u001b[0m \u001b[0;34m=\u001b[0m \u001b[0;32mTrue\u001b[0m\u001b[0;34m\u001b[0m\u001b[0;34m\u001b[0m\u001b[0m\n\u001b[1;32m    419\u001b[0m \u001b[0;34m\u001b[0m\u001b[0m\n",
      "\u001b[0;31mFileNotFoundError\u001b[0m: [Errno 2] No such file or directory: 'Training Features/hinge_features.npy'"
     ]
    }
   ],
   "source": [
    "#svm model\n",
    "hinge_feature_vectors = np.load(os.path.join(\n",
    "    outputFolderTraining, f\"hinge_features.npy\"))\n",
    "cold_feature_vectors = np.load(os.path.join(\n",
    "    outputFolderTraining, f\"cold_features.npy\"))\n",
    "labels = np.load(os.path.join(outputFolderTraining, f\"labels.npy\"))\n",
    "#now we have the features and labels we can train the model\n",
    "cs = MinMaxScaler()\n",
    "x = cs.fit_transform(hinge_feature_vectors)\n",
    "x = np.nan_to_num(x)\n",
    "\n",
    "clf = SVC(kernel='rbf', verbose=True, C=10)\n",
    "\n",
    "clf.fit(x, labels)\n",
    "print('SVM model trained')\n",
    "#calculate accuracy\n",
    "y_pred = clf.predict(x)\n",
    "print('Accuracy:', accuracy_score(labels, y_pred))"
   ]
  },
  {
   "cell_type": "code",
   "execution_count": 7,
   "metadata": {},
   "outputs": [
    {
     "ename": "FileNotFoundError",
     "evalue": "[Errno 2] No such file or directory: 'Testing Features/hinge_features.npy'",
     "output_type": "error",
     "traceback": [
      "\u001b[0;31m---------------------------------------------------------------------------\u001b[0m",
      "\u001b[0;31mFileNotFoundError\u001b[0m                         Traceback (most recent call last)",
      "\u001b[0;32m<ipython-input-7-915cb40a76c1>\u001b[0m in \u001b[0;36m<module>\u001b[0;34m\u001b[0m\n\u001b[1;32m     13\u001b[0m \u001b[0;34m\u001b[0m\u001b[0m\n\u001b[1;32m     14\u001b[0m \u001b[0moutputFolderTesting\u001b[0m \u001b[0;34m=\u001b[0m \u001b[0;34m\"Testing Features\"\u001b[0m\u001b[0;34m\u001b[0m\u001b[0;34m\u001b[0m\u001b[0m\n\u001b[0;32m---> 15\u001b[0;31m np.save(os.path.join(outputFolderTesting,\n\u001b[0m\u001b[1;32m     16\u001b[0m         f\"hinge_features.npy\"), test_hinge_feature_vectors)\n\u001b[1;32m     17\u001b[0m np.save(os.path.join(outputFolderTesting,\n",
      "\u001b[0;32m<__array_function__ internals>\u001b[0m in \u001b[0;36msave\u001b[0;34m(*args, **kwargs)\u001b[0m\n",
      "\u001b[0;32m~/anaconda3/lib/python3.8/site-packages/numpy/lib/npyio.py\u001b[0m in \u001b[0;36msave\u001b[0;34m(file, arr, allow_pickle, fix_imports)\u001b[0m\n\u001b[1;32m    523\u001b[0m         \u001b[0;32mif\u001b[0m \u001b[0;32mnot\u001b[0m \u001b[0mfile\u001b[0m\u001b[0;34m.\u001b[0m\u001b[0mendswith\u001b[0m\u001b[0;34m(\u001b[0m\u001b[0;34m'.npy'\u001b[0m\u001b[0;34m)\u001b[0m\u001b[0;34m:\u001b[0m\u001b[0;34m\u001b[0m\u001b[0;34m\u001b[0m\u001b[0m\n\u001b[1;32m    524\u001b[0m             \u001b[0mfile\u001b[0m \u001b[0;34m=\u001b[0m \u001b[0mfile\u001b[0m \u001b[0;34m+\u001b[0m \u001b[0;34m'.npy'\u001b[0m\u001b[0;34m\u001b[0m\u001b[0;34m\u001b[0m\u001b[0m\n\u001b[0;32m--> 525\u001b[0;31m         \u001b[0mfile_ctx\u001b[0m \u001b[0;34m=\u001b[0m \u001b[0mopen\u001b[0m\u001b[0;34m(\u001b[0m\u001b[0mfile\u001b[0m\u001b[0;34m,\u001b[0m \u001b[0;34m\"wb\"\u001b[0m\u001b[0;34m)\u001b[0m\u001b[0;34m\u001b[0m\u001b[0;34m\u001b[0m\u001b[0m\n\u001b[0m\u001b[1;32m    526\u001b[0m \u001b[0;34m\u001b[0m\u001b[0m\n\u001b[1;32m    527\u001b[0m     \u001b[0;32mwith\u001b[0m \u001b[0mfile_ctx\u001b[0m \u001b[0;32mas\u001b[0m \u001b[0mfid\u001b[0m\u001b[0;34m:\u001b[0m\u001b[0;34m\u001b[0m\u001b[0;34m\u001b[0m\u001b[0m\n",
      "\u001b[0;31mFileNotFoundError\u001b[0m: [Errno 2] No such file or directory: 'Testing Features/hinge_features.npy'"
     ]
    }
   ],
   "source": [
    "#lets test the model on unseen testing data\n",
    "#read testing images\n",
    "testing_data, test_labels = load_images_from_folder(r'Testing Data')\n",
    "#preprocess testing images\n",
    "for i in range(len(testing_data)):\n",
    "    testing_data[i],_ = preprocess_image(testing_data[i])\n",
    "#get features\n",
    "test_hinge_feature_vectors = []\n",
    "test_cold_feature_vectors = []\n",
    "for image in testing_data:\n",
    "    test_hinge_feature_vectors.append(get_hinge_features(image))\n",
    "    test_cold_feature_vectors.append(get_cold_features(image))\n",
    "\n",
    "outputFolderTesting = \"Testing Features\"\n",
    "np.save(os.path.join(outputFolderTesting,\n",
    "        f\"hinge_features.npy\"), test_hinge_feature_vectors)\n",
    "np.save(os.path.join(outputFolderTesting,\n",
    "        f\"cold_features.npy\"), test_cold_feature_vectors)\n",
    "np.save(os.path.join(outputFolderTesting, f\"labels.npy\"), test_labels)\n",
    "        \n"
   ]
  },
  {
   "cell_type": "code",
   "execution_count": 8,
   "metadata": {},
   "outputs": [
    {
     "name": "stdout",
     "output_type": "stream",
     "text": [
      "127\n",
      "Accuracy: 79.52755905511812 %\n"
     ]
    }
   ],
   "source": [
    "test_hinge_feature_vectors = np.load(os.path.join(\n",
    "    outputFolderTesting, f\"hinge_features.npy\"))\n",
    "test_cold_feature_vectors = np.load(os.path.join(\n",
    "    outputFolderTesting, f\"cold_features.npy\"))\n",
    "test_labels = np.load(os.path.join(outputFolderTesting, f\"labels.npy\"))\n",
    "\n",
    "\n",
    "#scale features\n",
    "cs = MinMaxScaler()\n",
    "x_test = cs.fit_transform(test_hinge_feature_vectors)\n",
    "x_test = np.nan_to_num(x_test)\n",
    "\n",
    "print(len(x_test))\n",
    "#calculate accuracy\n",
    "y_pred = clf.predict(x_test)\n",
    "print('Accuracy:', accuracy_score(test_labels, y_pred)*100, '%')\n"
   ]
  },
  {
   "cell_type": "code",
   "execution_count": 9,
   "metadata": {},
   "outputs": [
    {
     "name": "stdout",
     "output_type": "stream",
     "text": [
      "[LibSVM]Accuracy: 40.15748031496063 %\n"
     ]
    }
   ],
   "source": [
    "cs = MinMaxScaler()\n",
    "cold = cs.fit_transform(cold_feature_vectors)\n",
    "cold = np.nan_to_num(cold)\n",
    "\n",
    "clf = SVC(kernel='rbf', verbose=True, C=10)\n",
    "\n",
    "clf.fit(cold, labels)\n",
    "\n",
    "#scale features\n",
    "cs = MinMaxScaler()\n",
    "x_test = cs.fit_transform(test_cold_feature_vectors)\n",
    "x_test = np.nan_to_num(x_test)\n",
    "\n",
    "y_pred = clf.predict(x_test)\n",
    "\n",
    "print('Accuracy:', accuracy_score(test_labels, y_pred)*100, '%')\n"
   ]
  },
  {
   "cell_type": "code",
   "execution_count": 10,
   "metadata": {},
   "outputs": [],
   "source": [
    "feature = []\n",
    "for i in range(len(hinge_feature_vectors)):\n",
    "    temp = np.append(hinge_feature_vectors[i],cold_feature_vectors[i])\n",
    "    feature.append(temp)\n",
    "\n",
    "test_feature= []\n",
    "for i in range(len(test_hinge_feature_vectors)):\n",
    "    temp = np.append(\n",
    "        test_hinge_feature_vectors[i], test_cold_feature_vectors[i])\n",
    "    test_feature.append(temp)\n"
   ]
  },
  {
   "cell_type": "code",
   "execution_count": 1,
   "metadata": {},
   "outputs": [
    {
     "ename": "NameError",
     "evalue": "name 'cs' is not defined",
     "output_type": "error",
     "traceback": [
      "\u001b[0;31m---------------------------------------------------------------------------\u001b[0m",
      "\u001b[0;31mNameError\u001b[0m                                 Traceback (most recent call last)",
      "\u001b[0;32m<ipython-input-1-4efd7741505a>\u001b[0m in \u001b[0;36m<module>\u001b[0;34m\u001b[0m\n\u001b[0;32m----> 1\u001b[0;31m \u001b[0mfeature\u001b[0m \u001b[0;34m=\u001b[0m \u001b[0mcs\u001b[0m\u001b[0;34m.\u001b[0m\u001b[0mfit_transform\u001b[0m\u001b[0;34m(\u001b[0m\u001b[0mfeature\u001b[0m\u001b[0;34m)\u001b[0m\u001b[0;34m\u001b[0m\u001b[0;34m\u001b[0m\u001b[0m\n\u001b[0m\u001b[1;32m      2\u001b[0m \u001b[0mfeature\u001b[0m \u001b[0;34m=\u001b[0m \u001b[0mnp\u001b[0m\u001b[0;34m.\u001b[0m\u001b[0mnan_to_num\u001b[0m\u001b[0;34m(\u001b[0m\u001b[0mfeature\u001b[0m\u001b[0;34m)\u001b[0m\u001b[0;34m\u001b[0m\u001b[0;34m\u001b[0m\u001b[0m\n\u001b[1;32m      3\u001b[0m \u001b[0;34m\u001b[0m\u001b[0m\n\u001b[1;32m      4\u001b[0m \u001b[0mclf\u001b[0m \u001b[0;34m=\u001b[0m \u001b[0mSVC\u001b[0m\u001b[0;34m(\u001b[0m\u001b[0mkernel\u001b[0m\u001b[0;34m=\u001b[0m\u001b[0;34m'rbf'\u001b[0m\u001b[0;34m,\u001b[0m \u001b[0mverbose\u001b[0m\u001b[0;34m=\u001b[0m\u001b[0;32mTrue\u001b[0m\u001b[0;34m,\u001b[0m \u001b[0mC\u001b[0m\u001b[0;34m=\u001b[0m\u001b[0;36m10\u001b[0m\u001b[0;34m)\u001b[0m\u001b[0;34m\u001b[0m\u001b[0;34m\u001b[0m\u001b[0m\n\u001b[1;32m      5\u001b[0m \u001b[0;34m\u001b[0m\u001b[0m\n",
      "\u001b[0;31mNameError\u001b[0m: name 'cs' is not defined"
     ]
    }
   ],
   "source": [
    "feature = cs.fit_transform(feature)\n",
    "feature = np.nan_to_num(feature)\n",
    "\n",
    "clf = SVC(kernel='rbf', verbose=True, C=10)\n",
    "\n",
    "clf.fit(feature, labels)\n",
    "\n",
    "#scale features\n",
    "\n",
    "x_test = cs.fit_transform(test_feature)\n",
    "x_test = np.nan_to_num(x_test)\n",
    "\n",
    "y_pred = clf.predict(x_test)\n",
    "\n",
    "print('Accuracy:', accuracy_score(test_labels, y_pred)*100, '%')\n"
   ]
  },
  {
   "cell_type": "code",
   "execution_count": 2,
   "metadata": {},
   "outputs": [
    {
     "ename": "NameError",
     "evalue": "name 'np' is not defined",
     "output_type": "error",
     "traceback": [
      "\u001b[0;31m---------------------------------------------------------------------------\u001b[0m",
      "\u001b[0;31mNameError\u001b[0m                                 Traceback (most recent call last)",
      "\u001b[0;32m<ipython-input-2-c1dcfc0cba5d>\u001b[0m in \u001b[0;36m<module>\u001b[0;34m\u001b[0m\n\u001b[0;32m----> 1\u001b[0;31m \u001b[0mmale_set\u001b[0m\u001b[0;34m=\u001b[0m\u001b[0mnp\u001b[0m\u001b[0;34m.\u001b[0m\u001b[0mload\u001b[0m\u001b[0;34m(\u001b[0m\u001b[0;34m\"Males.npy\"\u001b[0m\u001b[0;34m)\u001b[0m\u001b[0;34m\u001b[0m\u001b[0;34m\u001b[0m\u001b[0m\n\u001b[0m\u001b[1;32m      2\u001b[0m \u001b[0mfemale_set\u001b[0m\u001b[0;34m=\u001b[0m\u001b[0mnp\u001b[0m\u001b[0;34m.\u001b[0m\u001b[0mload\u001b[0m\u001b[0;34m(\u001b[0m\u001b[0;34m\"Females.npy\"\u001b[0m\u001b[0;34m)\u001b[0m\u001b[0;34m\u001b[0m\u001b[0;34m\u001b[0m\u001b[0m\n\u001b[1;32m      3\u001b[0m \u001b[0;34m\u001b[0m\u001b[0m\n\u001b[1;32m      4\u001b[0m \u001b[0mhinge_male\u001b[0m\u001b[0;34m=\u001b[0m\u001b[0mnp\u001b[0m\u001b[0;34m.\u001b[0m\u001b[0mload\u001b[0m\u001b[0;34m(\u001b[0m\u001b[0;34m\"hinge_males.npy\"\u001b[0m\u001b[0;34m)\u001b[0m\u001b[0;34m\u001b[0m\u001b[0;34m\u001b[0m\u001b[0m\n\u001b[1;32m      5\u001b[0m \u001b[0mhinge_female\u001b[0m\u001b[0;34m=\u001b[0m\u001b[0mnp\u001b[0m\u001b[0;34m.\u001b[0m\u001b[0mload\u001b[0m\u001b[0;34m(\u001b[0m\u001b[0;34m\"hinge_females.npy\"\u001b[0m\u001b[0;34m)\u001b[0m\u001b[0;34m\u001b[0m\u001b[0;34m\u001b[0m\u001b[0m\n",
      "\u001b[0;31mNameError\u001b[0m: name 'np' is not defined"
     ]
    }
   ],
   "source": [
    "male_set=np.load(\"Males.npy\")\n",
    "female_set=np.load(\"Females.npy\")\n",
    "\n",
    "hinge_male=np.load(\"hinge_males.npy\")\n",
    "hinge_female=np.load(\"hinge_females.npy\")\n",
    "\n",
    "hinge_male=hinge_male.reshape(len(hinge_male),66)\n",
    "hinge_female=hinge_female.reshape(len(hinge_female),66)\n",
    "\n",
    "\n",
    "\n",
    "\n",
    "\n",
    "\n",
    "train_male_len=int(len(male_set)*(65/100))\n",
    "train_female_len=int(len(female_set)*(65/100))\n",
    "\n",
    "\n",
    "\n",
    "male_np_arr= np.array(male_set).reshape(len(male_set),72)\n",
    "female_np_arr= np.array(female_set).reshape(len(female_set),72)\n",
    "\n",
    "male_np_arr=np.concatenate([male_np_arr,hinge_male],axis=1)\n",
    "female_np_arr=np.concatenate([female_np_arr,hinge_female],axis=1)\n",
    "\n",
    "\n",
    "\n",
    "\n",
    "\n",
    "\n",
    "\n",
    "male_train_data=male_np_arr[0:train_male_len]\n",
    "female_train_data=female_np_arr[0:train_female_len]\n",
    "\n",
    "\n",
    "train_data=np.concatenate([male_train_data,female_train_data])\n",
    "\n",
    "\n",
    "# pca = PCA(n_components = 120) # Choose number of components\n",
    "# pca.fit(train_data) # fit on X_train if train/test split applied\n",
    "\n",
    "# train_data=pca.transform(train_data)\n",
    "# print(train_data.shape)\n",
    "\n",
    "\n",
    "\n",
    "males_train_labels=np.ones([len(male_train_data),1])\n",
    "females_train_labels=np.zeros([len(female_train_data),1])\n",
    "\n",
    "\n",
    "train_labels=np.concatenate([males_train_labels,females_train_labels])\n",
    "\n",
    "\n",
    "\n",
    "# print(len(male_train_data))\n",
    "# print(len(female_train_data))\n",
    "\n",
    "\n",
    "\n",
    "test_male_np_arr=male_np_arr[train_male_len:]\n",
    "test_female_np_arr=female_np_arr[train_female_len:]\n",
    "\n",
    "test_data=np.concatenate([test_male_np_arr,test_female_np_arr])\n",
    "\n",
    "\n",
    "# pca = PCA(n_components = 120) # Choose number of components\n",
    "# pca.fit(test_data) # fit on X_train if train/test split applied\n",
    "\n",
    "# test_data=pca.transform(test_data)\n",
    "\n",
    "\n",
    "\n",
    "\n",
    "print(train_labels.shape)\n",
    "print(train_data.shape)\n",
    "\n",
    "\n",
    "males_test_labels=np.ones([len(test_male_np_arr),1])\n",
    "females_test_labels=np.zeros([len(test_female_np_arr),1])\n",
    "\n",
    "test_labels=np.concatenate([males_test_labels,females_test_labels])\n",
    "\n",
    "\n",
    "\n",
    "\n",
    "\n",
    "\n",
    "\n",
    "\n",
    "\n",
    "\n",
    "# print(all_data)\n",
    "# print(all_data.shape)\n",
    "# print(labels.shape)\n",
    "\n"
   ]
  },
  {
   "cell_type": "code",
   "execution_count": null,
   "metadata": {},
   "outputs": [],
   "source": []
  }
 ],
 "metadata": {
  "interpreter": {
   "hash": "11938c6bc6919ae2720b4d5011047913343b08a43b18698fd82dedb0d4417594"
  },
  "kernelspec": {
   "display_name": "Python 3 (ipykernel)",
   "language": "python",
   "name": "python3"
  },
  "language_info": {
   "codemirror_mode": {
    "name": "ipython",
    "version": 3
   },
   "file_extension": ".py",
   "mimetype": "text/x-python",
   "name": "python",
   "nbconvert_exporter": "python",
   "pygments_lexer": "ipython3",
   "version": "3.8.8"
  }
 },
 "nbformat": 4,
 "nbformat_minor": 2
}
