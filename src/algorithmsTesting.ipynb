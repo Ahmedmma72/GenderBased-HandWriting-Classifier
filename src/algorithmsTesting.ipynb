{
 "cells": [
  {
   "cell_type": "code",
   "execution_count": 1,
   "metadata": {},
   "outputs": [],
   "source": [
    "import cv2 as cv\n",
    "import numpy as np\n",
    "import matplotlib.pyplot as plt\n",
    "import skimage as sk\n",
    "import os\n",
    "from PIL import Image, ImageEnhance"
   ]
  },
  {
   "cell_type": "code",
   "execution_count": null,
   "metadata": {},
   "outputs": [],
   "source": []
  },
  {
   "cell_type": "code",
   "execution_count": null,
   "metadata": {},
   "outputs": [],
   "source": [
    "#implment lbp feature\n",
    "def lbp_feature(img):\n",
    "    lbp = sk.feature.local_binary_pattern(img, 8, 1, method=\"uniform\")\n",
    "    (hist, _) = np.histogram(lbp.ravel(),\n",
    "                             bins=np.arange(0, 8 + 3), range=(0, 8 + 2))\n",
    "    return hist\n",
    "\n",
    "#implment lbp feature with opencv\n",
    "\n",
    "\n",
    "def lbp_feature_opencv(img):\n",
    "    lbp = cv.calcHist([img], [0], None, [8], [0, 256])\n",
    "    return lbp\n"
   ]
  },
  {
   "cell_type": "code",
   "execution_count": null,
   "metadata": {},
   "outputs": [],
   "source": [
    "#implment hog feature\n",
    "def hog_feature(img):\n",
    "    gray = cv.cvtColor(img, cv.COLOR_BGR2GRAY)\n",
    "    hog = cv.HOGDescriptor()\n",
    "    hog.setSVMDetector(cv.HOGDescriptor_getDefaultPeopleDetector())\n",
    "    hog_hist = hog.compute(gray)\n",
    "    return hog_hist\n"
   ]
  },
  {
   "cell_type": "code",
   "execution_count": null,
   "metadata": {},
   "outputs": [],
   "source": [
    "#implment ar coefficient feature\n",
    "def ar_coefficient_feature(img):\n",
    "    gray = cv.cvtColor(img, cv.COLOR_BGR2GRAY)\n",
    "    ar_coefficient = cv.HuMoments(cv.moments(gray)).flatten()\n",
    "    return ar_coefficient\n"
   ]
  },
  {
   "cell_type": "code",
   "execution_count": null,
   "metadata": {},
   "outputs": [],
   "source": [
    "#implment polygon feature\n",
    "def polygon_feature(img):\n",
    "    gray = cv.cvtColor(img, cv.COLOR_BGR2GRAY)\n",
    "    edges = cv.Canny(gray, 50, 150, apertureSize=3)\n",
    "    lines = cv.HoughLines(edges, 1, np.pi / 180, 200)\n",
    "    if lines is not None:\n",
    "        lines = np.squeeze(lines)\n",
    "        lines = lines[:, 0:4]\n",
    "        lines = lines.astype(np.int32)\n",
    "        polygon_hist = np.zeros((4, 2))\n",
    "        for i in range(lines.shape[0]):\n",
    "            polygon_hist[i] = lines[i, 0:2]\n",
    "        polygon_hist = polygon_hist.flatten()\n",
    "    else:\n",
    "        polygon_hist = np.zeros((4, 2))\n",
    "    return polygon_hist\n"
   ]
  }
 ],
 "metadata": {
  "interpreter": {
   "hash": "11938c6bc6919ae2720b4d5011047913343b08a43b18698fd82dedb0d4417594"
  },
  "kernelspec": {
   "display_name": "Python 3.9.6 64-bit",
   "language": "python",
   "name": "python3"
  },
  "language_info": {
   "codemirror_mode": {
    "name": "ipython",
    "version": 3
   },
   "file_extension": ".py",
   "mimetype": "text/x-python",
   "name": "python",
   "nbconvert_exporter": "python",
   "pygments_lexer": "ipython3",
   "version": "3.9.6"
  },
  "orig_nbformat": 4
 },
 "nbformat": 4,
 "nbformat_minor": 2
}
