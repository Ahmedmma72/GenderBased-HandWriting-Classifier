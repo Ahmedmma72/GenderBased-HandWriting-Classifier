{
 "cells": [
  {
   "cell_type": "code",
   "execution_count": 1,
   "metadata": {},
   "outputs": [],
   "source": [
    "import os\n",
    "import numpy as np\n",
    "from utils import *\n",
    "from hinge import get_hinge_features\n",
    "from cold import get_cold_features\n",
    "from preprocess import *\n",
    "from sklearn.preprocessing import MinMaxScaler\n",
    "from sklearn.svm import SVC\n",
    "from sklearn.metrics import accuracy_score\n",
    "from sklearn.metrics import classification_report"
   ]
  },
  {
   "cell_type": "code",
   "execution_count": 2,
   "metadata": {},
   "outputs": [],
   "source": [
    "#read training images\n",
    "training_data,labels = load_images_from_folder(r'Training Data')"
   ]
  },
  {
   "cell_type": "code",
   "execution_count": 3,
   "metadata": {},
   "outputs": [],
   "source": [
    "#preprocess training images\n",
    "for i in range(len(training_data)):\n",
    "    training_data[i],_ = preprocess_image(training_data[i])  "
   ]
  },
  {
   "cell_type": "code",
   "execution_count": 4,
   "metadata": {},
   "outputs": [],
   "source": [
    "#get features\n",
    "hinge_feature_vectors = []\n",
    "cold_feature_vectors = []\n",
    "\n",
    "for image in training_data:\n",
    "    hinge_feature_vectors.append(get_hinge_features(image))\n",
    "    cold_feature_vectors.append(get_cold_features(image))"
   ]
  },
  {
   "cell_type": "code",
   "execution_count": 5,
   "metadata": {},
   "outputs": [
    {
     "ename": "FileNotFoundError",
     "evalue": "[Errno 2] No such file or directory: 'Training Features/hinge_features.npy'",
     "output_type": "error",
     "traceback": [
      "\u001b[0;31m---------------------------------------------------------------------------\u001b[0m",
      "\u001b[0;31mFileNotFoundError\u001b[0m                         Traceback (most recent call last)",
      "\u001b[0;32m<ipython-input-5-c09fa86c9297>\u001b[0m in \u001b[0;36m<module>\u001b[0;34m\u001b[0m\n\u001b[1;32m      1\u001b[0m \u001b[0moutputFolderTraining\u001b[0m \u001b[0;34m=\u001b[0m \u001b[0;34m\"Training Features\"\u001b[0m\u001b[0;34m\u001b[0m\u001b[0;34m\u001b[0m\u001b[0m\n\u001b[0;32m----> 2\u001b[0;31m np.save(os.path.join(outputFolderTraining,\n\u001b[0m\u001b[1;32m      3\u001b[0m         f\"hinge_features.npy\"), hinge_feature_vectors)\n\u001b[1;32m      4\u001b[0m np.save(os.path.join(outputFolderTraining,\n\u001b[1;32m      5\u001b[0m         f\"cold_features.npy\"), cold_feature_vectors)\n",
      "\u001b[0;32m<__array_function__ internals>\u001b[0m in \u001b[0;36msave\u001b[0;34m(*args, **kwargs)\u001b[0m\n",
      "\u001b[0;32m~/anaconda3/lib/python3.8/site-packages/numpy/lib/npyio.py\u001b[0m in \u001b[0;36msave\u001b[0;34m(file, arr, allow_pickle, fix_imports)\u001b[0m\n\u001b[1;32m    523\u001b[0m         \u001b[0;32mif\u001b[0m \u001b[0;32mnot\u001b[0m \u001b[0mfile\u001b[0m\u001b[0;34m.\u001b[0m\u001b[0mendswith\u001b[0m\u001b[0;34m(\u001b[0m\u001b[0;34m'.npy'\u001b[0m\u001b[0;34m)\u001b[0m\u001b[0;34m:\u001b[0m\u001b[0;34m\u001b[0m\u001b[0;34m\u001b[0m\u001b[0m\n\u001b[1;32m    524\u001b[0m             \u001b[0mfile\u001b[0m \u001b[0;34m=\u001b[0m \u001b[0mfile\u001b[0m \u001b[0;34m+\u001b[0m \u001b[0;34m'.npy'\u001b[0m\u001b[0;34m\u001b[0m\u001b[0;34m\u001b[0m\u001b[0m\n\u001b[0;32m--> 525\u001b[0;31m         \u001b[0mfile_ctx\u001b[0m \u001b[0;34m=\u001b[0m \u001b[0mopen\u001b[0m\u001b[0;34m(\u001b[0m\u001b[0mfile\u001b[0m\u001b[0;34m,\u001b[0m \u001b[0;34m\"wb\"\u001b[0m\u001b[0;34m)\u001b[0m\u001b[0;34m\u001b[0m\u001b[0;34m\u001b[0m\u001b[0m\n\u001b[0m\u001b[1;32m    526\u001b[0m \u001b[0;34m\u001b[0m\u001b[0m\n\u001b[1;32m    527\u001b[0m     \u001b[0;32mwith\u001b[0m \u001b[0mfile_ctx\u001b[0m \u001b[0;32mas\u001b[0m \u001b[0mfid\u001b[0m\u001b[0;34m:\u001b[0m\u001b[0;34m\u001b[0m\u001b[0;34m\u001b[0m\u001b[0m\n",
      "\u001b[0;31mFileNotFoundError\u001b[0m: [Errno 2] No such file or directory: 'Training Features/hinge_features.npy'"
     ]
    }
   ],
   "source": [
    "outputFolderTraining = \"Training Features\"\n",
    "np.save(os.path.join(outputFolderTraining,\n",
    "        f\"hinge_features.npy\"), hinge_feature_vectors)\n",
    "np.save(os.path.join(outputFolderTraining,\n",
    "        f\"cold_features.npy\"), cold_feature_vectors)\n",
    "np.save(os.path.join(outputFolderTraining, f\"labels.npy\"), labels)"
   ]
  },
  {
   "cell_type": "code",
   "execution_count": 6,
   "metadata": {},
   "outputs": [
    {
     "name": "stdout",
     "output_type": "stream",
     "text": [
      "[LibSVM]SVM model trained\n",
      "Accuracy: 0.9915254237288136\n"
     ]
    }
   ],
   "source": [
    "#svm model\n",
    "hinge_feature_vectors = np.load(os.path.join(\n",
    "    outputFolderTraining, f\"hinge_features.npy\"))\n",
    "cold_feature_vectors = np.load(os.path.join(\n",
    "    outputFolderTraining, f\"cold_features.npy\"))\n",
    "labels = np.load(os.path.join(outputFolderTraining, f\"labels.npy\"))\n",
    "#now we have the features and labels we can train the model\n",
    "cs = MinMaxScaler()\n",
    "x = cs.fit_transform(hinge_feature_vectors)\n",
    "x = np.nan_to_num(x)\n",
    "\n",
    "clf = SVC(kernel='rbf', verbose=True, C=10)\n",
    "\n",
    "clf.fit(x, labels)\n",
    "print('SVM model trained')\n",
    "#calculate accuracy\n",
    "y_pred = clf.predict(x)\n",
    "print('Accuracy:', accuracy_score(labels, y_pred))"
   ]
  },
  {
   "cell_type": "code",
   "execution_count": 7,
   "metadata": {},
   "outputs": [
    {
     "name": "stderr",
     "output_type": "stream",
     "text": [
      "c:\\Users\\ahmed\\Desktop\\Second Semester\\Neural Networks\\Project\\GenderBased-HandWriting-Classifier\\src\\cold.py:49: RuntimeWarning: divide by zero encountered in log10\n",
      "  rhos_log_space = np.log10(rhos)\n"
     ]
    }
   ],
   "source": [
    "#lets test the model on unseen testing data\n",
    "#read testing images\n",
    "testing_data, test_labels = load_images_from_folder(r'Testing Data')\n",
    "#preprocess testing images\n",
    "for i in range(len(testing_data)):\n",
    "    testing_data[i],_ = preprocess_image(testing_data[i])\n",
    "#get features\n",
    "test_hinge_feature_vectors = []\n",
    "test_cold_feature_vectors = []\n",
    "for image in testing_data:\n",
    "    test_hinge_feature_vectors.append(get_hinge_features(image))\n",
    "    test_cold_feature_vectors.append(get_cold_features(image))\n",
    "\n",
    "outputFolderTesting = \"Testing Features\"\n",
    "np.save(os.path.join(outputFolderTesting,\n",
    "        f\"hinge_features.npy\"), test_hinge_feature_vectors)\n",
    "np.save(os.path.join(outputFolderTesting,\n",
    "        f\"cold_features.npy\"), test_cold_feature_vectors)\n",
    "np.save(os.path.join(outputFolderTesting, f\"labels.npy\"), test_labels)\n",
    "        \n"
   ]
  },
  {
   "cell_type": "code",
   "execution_count": 8,
   "metadata": {},
   "outputs": [
    {
     "name": "stdout",
     "output_type": "stream",
     "text": [
      "127\n",
      "Accuracy: 79.52755905511812 %\n"
     ]
    }
   ],
   "source": [
    "test_hinge_feature_vectors = np.load(os.path.join(\n",
    "    outputFolderTesting, f\"hinge_features.npy\"))\n",
    "test_cold_feature_vectors = np.load(os.path.join(\n",
    "    outputFolderTesting, f\"cold_features.npy\"))\n",
    "test_labels = np.load(os.path.join(outputFolderTesting, f\"labels.npy\"))\n",
    "\n",
    "\n",
    "#scale features\n",
    "cs = MinMaxScaler()\n",
    "x_test = cs.fit_transform(test_hinge_feature_vectors)\n",
    "x_test = np.nan_to_num(x_test)\n",
    "\n",
    "print(len(x_test))\n",
    "#calculate accuracy\n",
    "y_pred = clf.predict(x_test)\n",
    "print('Accuracy:', accuracy_score(test_labels, y_pred)*100, '%')\n"
   ]
  },
  {
   "cell_type": "code",
   "execution_count": 9,
   "metadata": {},
   "outputs": [
    {
     "name": "stdout",
     "output_type": "stream",
     "text": [
      "[LibSVM]Accuracy: 40.15748031496063 %\n"
     ]
    }
   ],
   "source": [
    "cs = MinMaxScaler()\n",
    "cold = cs.fit_transform(cold_feature_vectors)\n",
    "cold = np.nan_to_num(cold)\n",
    "\n",
    "clf = SVC(kernel='rbf', verbose=True, C=10)\n",
    "\n",
    "clf.fit(cold, labels)\n",
    "\n",
    "#scale features\n",
    "cs = MinMaxScaler()\n",
    "x_test = cs.fit_transform(test_cold_feature_vectors)\n",
    "x_test = np.nan_to_num(x_test)\n",
    "\n",
    "y_pred = clf.predict(x_test)\n",
    "\n",
    "print('Accuracy:', accuracy_score(test_labels, y_pred)*100, '%')\n"
   ]
  },
  {
   "cell_type": "code",
   "execution_count": 10,
   "metadata": {},
   "outputs": [],
   "source": [
    "feature = []\n",
    "for i in range(len(hinge_feature_vectors)):\n",
    "    temp = np.append(hinge_feature_vectors[i],cold_feature_vectors[i])\n",
    "    feature.append(temp)\n",
    "\n",
    "test_feature= []\n",
    "for i in range(len(test_hinge_feature_vectors)):\n",
    "    temp = np.append(\n",
    "        test_hinge_feature_vectors[i], test_cold_feature_vectors[i])\n",
    "    test_feature.append(temp)\n"
   ]
  },
  {
   "cell_type": "code",
   "execution_count": 11,
   "metadata": {},
   "outputs": [
    {
     "name": "stdout",
     "output_type": "stream",
     "text": [
      "[LibSVM]Accuracy: 60.629921259842526 %\n"
     ]
    }
   ],
   "source": [
    "feature = cs.fit_transform(feature)\n",
    "feature = np.nan_to_num(feature)\n",
    "\n",
    "clf = SVC(kernel='rbf', verbose=True, C=10)\n",
    "\n",
    "clf.fit(feature, labels)\n",
    "\n",
    "#scale features\n",
    "\n",
    "x_test = cs.fit_transform(test_feature)\n",
    "x_test = np.nan_to_num(x_test)\n",
    "\n",
    "y_pred = clf.predict(x_test)\n",
    "\n",
    "print('Accuracy:', accuracy_score(test_labels, y_pred)*100, '%')\n"
   ]
  }
 ],
 "metadata": {
  "interpreter": {
   "hash": "11938c6bc6919ae2720b4d5011047913343b08a43b18698fd82dedb0d4417594"
  },
  "kernelspec": {
   "display_name": "Python 3",
   "language": "python",
   "name": "python3"
  },
  "language_info": {
   "codemirror_mode": {
    "name": "ipython",
    "version": 3
   },
   "file_extension": ".py",
   "mimetype": "text/x-python",
   "name": "python",
   "nbconvert_exporter": "python",
   "pygments_lexer": "ipython3",
   "version": "3.8.8"
  }
 },
 "nbformat": 4,
 "nbformat_minor": 2
}
